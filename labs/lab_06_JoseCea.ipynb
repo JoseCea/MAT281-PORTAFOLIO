{
 "cells": [
  {
   "cell_type": "markdown",
   "metadata": {},
   "source": [
    "# MAT281 - Laboratorio N°06\n",
    "\n"
   ]
  },
  {
   "cell_type": "markdown",
   "metadata": {},
   "source": [
    "## Problema 01\n",
    "<img src=\"./images/logo_iris.jpg\" width=\"360\" height=\"360\" align=\"center\"/>"
   ]
  },
  {
   "cell_type": "markdown",
   "metadata": {},
   "source": [
    "El **Iris dataset** es un conjunto de datos que contine una  muestras de tres especies de Iris (Iris setosa, Iris virginica e Iris versicolor). Se midió cuatro rasgos de cada muestra: el largo y ancho del sépalo y pétalo, en centímetros.\n",
    "\n",
    "Lo primero es cargar el conjunto de datos y ver las primeras filas que lo componen:"
   ]
  },
  {
   "cell_type": "code",
   "execution_count": 11,
   "metadata": {},
   "outputs": [],
   "source": [
    "# librerias\n",
    " \n",
    "import os\n",
    "import numpy as np\n",
    "import pandas as pd\n",
    "\n",
    "import matplotlib.pyplot as plt\n",
    "import seaborn as sns \n",
    "pd.set_option('display.max_columns', 500)  # Ver más columnas de los dataframes\n",
    "\n",
    "\n",
    "# Ver gráficos de matplotlib en jupyter notebook/lab\n",
    "%matplotlib inline"
   ]
  },
  {
   "cell_type": "code",
   "execution_count": 12,
   "metadata": {},
   "outputs": [
    {
     "data": {
      "text/html": [
       "<div>\n",
       "<style scoped>\n",
       "    .dataframe tbody tr th:only-of-type {\n",
       "        vertical-align: middle;\n",
       "    }\n",
       "\n",
       "    .dataframe tbody tr th {\n",
       "        vertical-align: top;\n",
       "    }\n",
       "\n",
       "    .dataframe thead th {\n",
       "        text-align: right;\n",
       "    }\n",
       "</style>\n",
       "<table border=\"1\" class=\"dataframe\">\n",
       "  <thead>\n",
       "    <tr style=\"text-align: right;\">\n",
       "      <th></th>\n",
       "      <th>sepalLength</th>\n",
       "      <th>sepalWidth</th>\n",
       "      <th>petalLength</th>\n",
       "      <th>petalWidth</th>\n",
       "      <th>species</th>\n",
       "    </tr>\n",
       "  </thead>\n",
       "  <tbody>\n",
       "    <tr>\n",
       "      <th>0</th>\n",
       "      <td>4.4</td>\n",
       "      <td>3.2</td>\n",
       "      <td>1.3</td>\n",
       "      <td>3.0</td>\n",
       "      <td>setosa</td>\n",
       "    </tr>\n",
       "    <tr>\n",
       "      <th>1</th>\n",
       "      <td>7.2</td>\n",
       "      <td>3.6</td>\n",
       "      <td>6.1</td>\n",
       "      <td>2.5</td>\n",
       "      <td>virginica</td>\n",
       "    </tr>\n",
       "    <tr>\n",
       "      <th>2</th>\n",
       "      <td>6.3</td>\n",
       "      <td>3.3</td>\n",
       "      <td>6.0</td>\n",
       "      <td>2.5</td>\n",
       "      <td>VIRGINICA</td>\n",
       "    </tr>\n",
       "    <tr>\n",
       "      <th>3</th>\n",
       "      <td>6.7</td>\n",
       "      <td>3.3</td>\n",
       "      <td>5.7</td>\n",
       "      <td>2.5</td>\n",
       "      <td>virginica</td>\n",
       "    </tr>\n",
       "    <tr>\n",
       "      <th>4</th>\n",
       "      <td>6.3</td>\n",
       "      <td>3.4</td>\n",
       "      <td>5.6</td>\n",
       "      <td>2.4</td>\n",
       "      <td>virginica</td>\n",
       "    </tr>\n",
       "  </tbody>\n",
       "</table>\n",
       "</div>"
      ],
      "text/plain": [
       "   sepalLength  sepalWidth  petalLength  petalWidth     species\n",
       "0          4.4         3.2          1.3         3.0      setosa\n",
       "1          7.2         3.6          6.1         2.5   virginica\n",
       "2          6.3         3.3          6.0         2.5   VIRGINICA\n",
       "3          6.7         3.3          5.7         2.5   virginica\n",
       "4          6.3         3.4          5.6         2.4   virginica"
      ]
     },
     "execution_count": 12,
     "metadata": {},
     "output_type": "execute_result"
    }
   ],
   "source": [
    "# cargar datos\n",
    "df = pd.read_csv(os.path.join(\"data\",\"iris_contaminados.csv\"))\n",
    "df.columns = ['sepalLength',\n",
    "                  'sepalWidth',\n",
    "                  'petalLength',\n",
    "                  'petalWidth',\n",
    "                  'species']\n",
    "\n",
    "df.head() "
   ]
  },
  {
   "cell_type": "markdown",
   "metadata": {},
   "source": [
    "### Bases del experimento\n",
    "\n",
    "Lo primero es identificar las variables que influyen en el estudio y la naturaleza de esta.\n",
    "\n",
    "* **species**: \n",
    "    * Descripción: Nombre de la especie de Iris. \n",
    "    * Tipo de dato: *string*\n",
    "    * Limitantes: solo existen tres tipos (setosa, virginia y versicolor).\n",
    "* **sepalLength**: \n",
    "    * Descripción: largo del sépalo. \n",
    "    * Tipo de dato: *integer*. \n",
    "    * Limitantes: los valores se encuentran entre 4.0 y 7.0 cm.\n",
    "* **sepalWidth**: \n",
    "    * Descripción: ancho del sépalo. \n",
    "    * Tipo de dato: *integer*. \n",
    "    * Limitantes: los valores se encuentran entre 2.0 y 4.5 cm.\n",
    "* **petalLength**: \n",
    "    * Descripción: largo del pétalo. \n",
    "    * Tipo de dato: *integer*. \n",
    "    * Limitantes: los valores se encuentran entre 1.0 y 7.0 cm.\n",
    "* **petalWidth**: \n",
    "    * Descripción: ancho del pépalo. \n",
    "    * Tipo de dato: *integer*. \n",
    "    * Limitantes: los valores se encuentran entre 0.1 y 2.5 cm."
   ]
  },
  {
   "cell_type": "markdown",
   "metadata": {},
   "source": [
    "Su objetivo es realizar un correcto **E.D.A.**, para esto debe seguir las siguientes intrucciones:"
   ]
  },
  {
   "cell_type": "markdown",
   "metadata": {},
   "source": [
    "1. Realizar un conteo de elementos de la columna **species** y corregir según su criterio. Reemplace por \"default\" los valores nan.."
   ]
  },
  {
   "cell_type": "code",
   "execution_count": 13,
   "metadata": {},
   "outputs": [
    {
     "data": {
      "text/plain": [
       "array(['setosa', ' virginica', 'VIRGINICA', 'virginica', 'virginica ',\n",
       "       'versicolor', 'Versicolor', 'VERSICOLOR', nan, 'Setosa', 'SETOSA'],\n",
       "      dtype=object)"
      ]
     },
     "execution_count": 13,
     "metadata": {},
     "output_type": "execute_result"
    }
   ],
   "source": [
    "df['species'].unique()"
   ]
  },
  {
   "cell_type": "code",
   "execution_count": 14,
   "metadata": {},
   "outputs": [
    {
     "data": {
      "text/plain": [
       "array(['setosa', 'virginica', 'versicolor', 'default'], dtype=object)"
      ]
     },
     "execution_count": 14,
     "metadata": {},
     "output_type": "execute_result"
    }
   ],
   "source": [
    "#Corecciones del nombre de las especies\n",
    "df.loc[df[\"species\"]==\"VERSICOLOR\",\"species\"]=\"versicolor\"\n",
    "df.loc[df[\"species\"]==\"Versicolor\",\"species\"]=\"versicolor\"\n",
    "df.loc[df[\"species\"]==\" virginica\",\"species\"]='virginica'\n",
    "df.loc[df[\"species\"]==\"virginica \",\"species\"]='virginica'\n",
    "df.loc[df[\"species\"]==\"VIRGINICA\",\"species\"]='virginica'\n",
    "df.loc[df[\"species\"]==\"Setosa\",\"species\"]='setosa'\n",
    "df.loc[df[\"species\"]==\"SETOSA\",\"species\"]='setosa'\n",
    "df.loc[df[\"species\"].isnull(),\"species\"]='default'\n",
    "df['species'].unique()"
   ]
  },
  {
   "cell_type": "markdown",
   "metadata": {},
   "source": [
    "2. Realizar un gráfico de box-plot sobre el largo y ancho de los petalos y sépalos. Reemplace por **0** los valores nan."
   ]
  },
  {
   "cell_type": "code",
   "execution_count": 16,
   "metadata": {},
   "outputs": [
    {
     "data": {
      "text/plain": [
       "<AxesSubplot:>"
      ]
     },
     "execution_count": 16,
     "metadata": {},
     "output_type": "execute_result"
    },
    {
     "data": {
      "image/png": "[encoded data removed]",
      "text/plain": [
       "<Figure size 432x288 with 1 Axes>"
      ]
     },
     "metadata": {
      "needs_background": "light"
     },
     "output_type": "display_data"
    }
   ],
   "source": [
    "import seaborn as sns\n",
    "\n",
    "#Remplazo de losvalores nan\n",
    "\n",
    "df.loc[df[\"sepalLength\"].isnull(),\"sepalLength\"]=0\n",
    "df.loc[df[\"sepalWidth\"].isnull(),\"sepalWidth\"]=0\n",
    "df.loc[df[\"petalLength\"].isnull(),\"sepalWidth\"]=0\n",
    "df.loc[df[\"petalWidth\"].isnull(),\"petalWidth\"]=0\n",
    "\n",
    "#grafico \n",
    "stats_df = df.drop(['species'], axis=1)\n",
    "sns.boxplot(data=stats_df)"
   ]
  },
  {
   "cell_type": "markdown",
   "metadata": {},
   "source": [
    "3. Anteriormente se define un rango de valores válidos para los valores del largo y ancho de los petalos y sépalos. Agregue una columna denominada **label**  que identifique cuál de estos valores esta fuera del rango de valores válidos."
   ]
  },
  {
   "cell_type": "code",
   "execution_count": 17,
   "metadata": {},
   "outputs": [
    {
     "data": {
      "text/html": [
       "<div>\n",
       "<style scoped>\n",
       "    .dataframe tbody tr th:only-of-type {\n",
       "        vertical-align: middle;\n",
       "    }\n",
       "\n",
       "    .dataframe tbody tr th {\n",
       "        vertical-align: top;\n",
       "    }\n",
       "\n",
       "    .dataframe thead th {\n",
       "        text-align: right;\n",
       "    }\n",
       "</style>\n",
       "<table border=\"1\" class=\"dataframe\">\n",
       "  <thead>\n",
       "    <tr style=\"text-align: right;\">\n",
       "      <th></th>\n",
       "      <th>sepalLength</th>\n",
       "      <th>sepalWidth</th>\n",
       "      <th>petalLength</th>\n",
       "      <th>petalWidth</th>\n",
       "      <th>species</th>\n",
       "      <th>label</th>\n",
       "    </tr>\n",
       "  </thead>\n",
       "  <tbody>\n",
       "    <tr>\n",
       "      <th>0</th>\n",
       "      <td>4.4</td>\n",
       "      <td>3.2</td>\n",
       "      <td>1.3</td>\n",
       "      <td>3.0</td>\n",
       "      <td>setosa</td>\n",
       "      <td>False</td>\n",
       "    </tr>\n",
       "    <tr>\n",
       "      <th>1</th>\n",
       "      <td>7.2</td>\n",
       "      <td>3.6</td>\n",
       "      <td>6.1</td>\n",
       "      <td>2.5</td>\n",
       "      <td>virginica</td>\n",
       "      <td>False</td>\n",
       "    </tr>\n",
       "    <tr>\n",
       "      <th>2</th>\n",
       "      <td>6.3</td>\n",
       "      <td>3.3</td>\n",
       "      <td>6.0</td>\n",
       "      <td>2.5</td>\n",
       "      <td>virginica</td>\n",
       "      <td>True</td>\n",
       "    </tr>\n",
       "    <tr>\n",
       "      <th>3</th>\n",
       "      <td>6.7</td>\n",
       "      <td>3.3</td>\n",
       "      <td>5.7</td>\n",
       "      <td>2.5</td>\n",
       "      <td>virginica</td>\n",
       "      <td>True</td>\n",
       "    </tr>\n",
       "    <tr>\n",
       "      <th>4</th>\n",
       "      <td>6.3</td>\n",
       "      <td>3.4</td>\n",
       "      <td>5.6</td>\n",
       "      <td>2.4</td>\n",
       "      <td>virginica</td>\n",
       "      <td>True</td>\n",
       "    </tr>\n",
       "    <tr>\n",
       "      <th>...</th>\n",
       "      <td>...</td>\n",
       "      <td>...</td>\n",
       "      <td>...</td>\n",
       "      <td>...</td>\n",
       "      <td>...</td>\n",
       "      <td>...</td>\n",
       "    </tr>\n",
       "    <tr>\n",
       "      <th>145</th>\n",
       "      <td>5.3</td>\n",
       "      <td>3.0</td>\n",
       "      <td>1.1</td>\n",
       "      <td>0.1</td>\n",
       "      <td>setosa</td>\n",
       "      <td>True</td>\n",
       "    </tr>\n",
       "    <tr>\n",
       "      <th>146</th>\n",
       "      <td>4.8</td>\n",
       "      <td>3.0</td>\n",
       "      <td>1.4</td>\n",
       "      <td>0.1</td>\n",
       "      <td>setosa</td>\n",
       "      <td>True</td>\n",
       "    </tr>\n",
       "    <tr>\n",
       "      <th>147</th>\n",
       "      <td>4.9</td>\n",
       "      <td>3.1</td>\n",
       "      <td>1.5</td>\n",
       "      <td>0.1</td>\n",
       "      <td>setosa</td>\n",
       "      <td>True</td>\n",
       "    </tr>\n",
       "    <tr>\n",
       "      <th>148</th>\n",
       "      <td>4.9</td>\n",
       "      <td>3.6</td>\n",
       "      <td>1.4</td>\n",
       "      <td>0.1</td>\n",
       "      <td>setosa</td>\n",
       "      <td>True</td>\n",
       "    </tr>\n",
       "    <tr>\n",
       "      <th>149</th>\n",
       "      <td>5.2</td>\n",
       "      <td>4.1</td>\n",
       "      <td>1.5</td>\n",
       "      <td>0.1</td>\n",
       "      <td>setosa</td>\n",
       "      <td>True</td>\n",
       "    </tr>\n",
       "  </tbody>\n",
       "</table>\n",
       "<p>150 rows × 6 columns</p>\n",
       "</div>"
      ],
      "text/plain": [
       "     sepalLength  sepalWidth  petalLength  petalWidth    species  label\n",
       "0            4.4         3.2          1.3         3.0     setosa  False\n",
       "1            7.2         3.6          6.1         2.5  virginica  False\n",
       "2            6.3         3.3          6.0         2.5  virginica   True\n",
       "3            6.7         3.3          5.7         2.5  virginica   True\n",
       "4            6.3         3.4          5.6         2.4  virginica   True\n",
       "..           ...         ...          ...         ...        ...    ...\n",
       "145          5.3         3.0          1.1         0.1     setosa   True\n",
       "146          4.8         3.0          1.4         0.1     setosa   True\n",
       "147          4.9         3.1          1.5         0.1     setosa   True\n",
       "148          4.9         3.6          1.4         0.1     setosa   True\n",
       "149          5.2         4.1          1.5         0.1     setosa   True\n",
       "\n",
       "[150 rows x 6 columns]"
      ]
     },
     "execution_count": 17,
     "metadata": {},
     "output_type": "execute_result"
    }
   ],
   "source": [
    "#creación de los valores validos \n",
    "mask_SL_inf =  df['sepalLength']>=4\n",
    "mask_SL_sup =  df['sepalLength']<=7\n",
    "\n",
    "mask_SW_inf =  df['sepalWidth']>=2\n",
    "mask_SW_sup =  df['sepalWidth']<=4.5\n",
    "\n",
    "mask_PL_inf =  df['petalLength']>=1\n",
    "mask_PL_sup =  df['petalLength']<=7\n",
    "\n",
    "mask_PW_inf =  df['petalWidth']>=0.1\n",
    "mask_PW_sup =  df['petalWidth']<=2.5\n",
    "\n",
    "#union de las restricciones planteadas\n",
    "mask_SL = mask_SL_inf & mask_SL_sup\n",
    "mask_SW = mask_SW_inf & mask_SW_sup\n",
    "mask_PL = mask_PL_inf & mask_PL_sup\n",
    "mask_PW = mask_PW_inf & mask_PW_sup\n",
    "\n",
    "#Creacion de la columna label y las restricciones dadas\n",
    "df[\"label\"]= mask_SL & mask_SW & mask_PL & mask_PW\n",
    "df"
   ]
  },
  {
   "cell_type": "markdown",
   "metadata": {},
   "source": [
    "4. Realice un gráfico de *sepalLength* vs *petalLength* y otro de *sepalWidth* vs *petalWidth* categorizados por la etiqueta **label**. Concluya sus resultados."
   ]
  },
  {
   "cell_type": "code",
   "execution_count": 18,
   "metadata": {},
   "outputs": [
    {
     "data": {
      "image/png": "[encoded data removed]",
      "text/plain": [
       "<Figure size 432x288 with 1 Axes>"
      ]
     },
     "metadata": {
      "needs_background": "light"
     },
     "output_type": "display_data"
    }
   ],
   "source": [
    "# grafico sepalLength vs petalLength\n",
    "\n",
    "fig, ax = plt.subplots()\n",
    "\n",
    "for label in df[\"label\"].unique():\n",
    "    x= df.loc[df[\"label\"]==label, \"sepalLength\"]\n",
    "    y= df.loc[df[\"label\"]==label, \"petalLength\"]\n",
    "    ax.scatter(x, y, label=label)\n",
    "\n",
    "ax.legend()\n",
    "ax.grid(True)\n",
    "\n",
    "plt.xlabel(\"Sepal Length\")\n",
    "plt.ylabel(\"Petal Length\")\n",
    "plt.title(\"Sepal Length vs Pepal Length\")\n",
    "plt.show()"
   ]
  },
  {
   "cell_type": "code",
   "execution_count": 19,
   "metadata": {},
   "outputs": [
    {
     "data": {
      "image/png": "[encoded data removed]",
      "text/plain": [
       "<Figure size 432x288 with 1 Axes>"
      ]
     },
     "metadata": {
      "needs_background": "light"
     },
     "output_type": "display_data"
    }
   ],
   "source": [
    "# grafico sepalWidth vs petalWidth\n",
    "\n",
    "fig, ax = plt.subplots()\n",
    "\n",
    "for label in df[\"label\"].unique():\n",
    "    x= df.loc[df[\"label\"]==label, \"sepalWidth\"]\n",
    "    y= df.loc[df[\"label\"]==label, \"petalWidth\"]\n",
    "    ax.scatter(x, y, label=label)\n",
    "\n",
    "ax.legend()\n",
    "ax.grid(True)\n",
    "\n",
    "plt.xlabel(\"Sepal Width\")\n",
    "plt.ylabel(\"Petal Width\")\n",
    "plt.title(\"Sepal Width vs Pepal Width\")\n",
    "plt.show()"
   ]
  },
  {
   "cell_type": "markdown",
   "metadata": {},
   "source": [
    "5. Filtre los datos válidos y realice un gráfico de *sepalLength* vs *petalLength* categorizados por la etiqueta **species**."
   ]
  },
  {
   "cell_type": "code",
   "execution_count": 9,
   "metadata": {},
   "outputs": [
    {
     "data": {
      "text/plain": [
       "Text(0, 0.5, 'petalLength')"
      ]
     },
     "execution_count": 9,
     "metadata": {},
     "output_type": "execute_result"
    },
    {
     "data": {
      "image/png": "[encoded data removed]",
      "text/plain": [
       "<Figure size 432x288 with 1 Axes>"
      ]
     },
     "metadata": {
      "needs_background": "light"
     },
     "output_type": "display_data"
    }
   ],
   "source": [
    "df_aux = df.loc[df['label']==True]\n",
    "fig,ax = plt.subplots()\n",
    "for specie in df_aux['species'].unique():\n",
    "    x_axis = df_aux.loc[df_aux['species']==specie, 'sepalLength']\n",
    "    y_axis = df_aux.loc[df_aux['species']==specie, 'petalLength']\n",
    "    ax.scatter(x_axis,y_axis,label=specie)\n",
    "\n",
    "ax.legend()\n",
    "ax.grid(True)\n",
    "\n",
    "plt.xlabel('sepalLength')\n",
    "plt.ylabel('petalLength')"
   ]
  }
 ],
 "metadata": {
  "kernelspec": {
   "display_name": "Python 3",
   "language": "python",
   "name": "python3"
  },
  "language_info": {
   "codemirror_mode": {
    "name": "ipython",
    "version": 3
   },
   "file_extension": ".py",
   "mimetype": "text/x-python",
   "name": "python",
   "nbconvert_exporter": "python",
   "pygments_lexer": "ipython3",
   "version": "3.8.8"
  }
 },
 "nbformat": 4,
 "nbformat_minor": 4
}
